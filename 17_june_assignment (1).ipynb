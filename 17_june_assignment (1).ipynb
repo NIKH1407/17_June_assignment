{
  "nbformat": 4,
  "nbformat_minor": 0,
  "metadata": {
    "colab": {
      "provenance": []
    },
    "kernelspec": {
      "name": "python3",
      "display_name": "Python 3"
    },
    "language_info": {
      "name": "python"
    }
  },
  "cells": [
    {
      "cell_type": "code",
      "execution_count": null,
      "metadata": {
        "id": "O_-A7KsRpAor"
      },
      "outputs": [],
      "source": [
        "# What is the role of try and exception block?"
      ]
    },
    {
      "cell_type": "code",
      "source": [
        "# The try-except block is used to handle errors and exceptions that may occur\n",
        "# during program execution. The code that might raise an exception is placed\n",
        "# within the try block, and if an exception occurs, the program flow is\n",
        "# transferred to the corresponding except block. The except block defines\n",
        "# the actions to be taken when a specific exception is encountered. By using\n",
        "# try-except blocks,\n",
        "# you can gracefully handle exceptions, display error messages, and\n",
        "# recover from errors to prevent program crashes."
      ],
      "metadata": {
        "id": "Zb5dml4upHT0"
      },
      "execution_count": null,
      "outputs": []
    },
    {
      "cell_type": "code",
      "source": [
        "# What is the syntax for a basic try-except block?"
      ],
      "metadata": {
        "id": "77_qm-_IpHXW"
      },
      "execution_count": null,
      "outputs": []
    },
    {
      "cell_type": "code",
      "source": [
        "try:\n",
        "    # Code that might raise an exception\n",
        "    # ...\n",
        "except ExceptionType:\n",
        "    # Code to handle the exception\n",
        "    # ...\n",
        "\n",
        "\n",
        "\n",
        "try:\n",
        "    # Code that might raise an exception\n",
        "    x = int(input(\"Enter a number: \"))\n",
        "    result = 10 / x\n",
        "    print(\"Result:\", result)\n",
        "except ValueError:\n",
        "    print(\"Invalid input. Please enter a valid number.\")\n",
        "except ZeroDivisionError:\n",
        "    print(\"Cannot divide by zero.\")\n"
      ],
      "metadata": {
        "id": "Rd8rjWblpHaQ"
      },
      "execution_count": null,
      "outputs": []
    },
    {
      "cell_type": "code",
      "source": [
        "# 3. What happens if an exception occurs inside a try block and there is no matching\n",
        "# except block?"
      ],
      "metadata": {
        "id": "WFtfc2KEpHc1"
      },
      "execution_count": null,
      "outputs": []
    },
    {
      "cell_type": "code",
      "source": [
        "# If an exception occurs inside a try block\n",
        "# and there is no matching except block to handle that specific exception,\n",
        "# the program will terminate with an unhandled exception error.\n",
        "# This means that the default exception handling mechanism of the programming\n",
        "# language will take over, and the program will display an error message or\n",
        "# traceback indicating the unhandled exception and its type.\n",
        "\n",
        "# In short, if an exception is not caught by a corresponding except block,\n",
        "# the program will terminate and display an error message related to the\n",
        "# unhandled exception."
      ],
      "metadata": {
        "id": "liM0kb8QpHfH"
      },
      "execution_count": null,
      "outputs": []
    },
    {
      "cell_type": "code",
      "source": [
        "# 4. What is the difference between using a bare except block and specifying a specific\n",
        "# exception type?"
      ],
      "metadata": {
        "id": "WYSURLT1pHhB"
      },
      "execution_count": null,
      "outputs": []
    },
    {
      "cell_type": "code",
      "source": [
        "# using a specific exception type in an except block allows you to\n",
        "# handle exceptions more precisely based on their types, providing tailored\n",
        "# error messages and specific actions. On the other hand, a bare except block\n",
        "# catches all exceptions, but it lacks the specificity and control of handling\n",
        "# different exception types.\n",
        "# It is generally recommended to use specific exception types for\n",
        "# better error handling and code maintainability."
      ],
      "metadata": {
        "id": "qEZXnG3OpHkT"
      },
      "execution_count": null,
      "outputs": []
    },
    {
      "cell_type": "code",
      "source": [
        "# 5. Can you have nested try-except blocks in Python? If yes, then give an example."
      ],
      "metadata": {
        "id": "nlpq6ff4pHmR"
      },
      "execution_count": null,
      "outputs": []
    },
    {
      "cell_type": "code",
      "source": [
        "# Yes, it is possible to have nested try-except blocks in Python.\n",
        "# This means that you can have a try block within another try block, and the corresponding except\n",
        "# blocks will also be nested. This allows for handling exceptions at different levels of code execution\n",
        "\n",
        "\n",
        "\n",
        "try:\n",
        "    # Outer try block\n",
        "    numerator = int(input(\"Enter the numerator: \"))\n",
        "    denominator = int(input(\"Enter the denominator: \"))\n",
        "\n",
        "    try:\n",
        "        # Inner try block\n",
        "        result = numerator / denominator\n",
        "        print(\"Result:\", result)\n",
        "    except ZeroDivisionError:\n",
        "        print(\"Cannot divide by zero.\")\n",
        "except ValueError:\n",
        "    print(\"Invalid input. Please enter valid integers.\")\n"
      ],
      "metadata": {
        "id": "0SE8cbmwpHqH"
      },
      "execution_count": null,
      "outputs": []
    },
    {
      "cell_type": "code",
      "source": [
        "# 6. Can we use multiple exception blocks, if yes then give an example."
      ],
      "metadata": {
        "id": "sHpEC0p_pHsw"
      },
      "execution_count": null,
      "outputs": []
    },
    {
      "cell_type": "code",
      "source": [
        "# Yes, it is possible to use multiple except blocks in a try-except statement.\n",
        "#  This allows you to handle different types of exceptions separately\n",
        "#  and perform specific actions based on the type of exception encountered.\n",
        "\n",
        "\n",
        "try:\n",
        "    # Code that might raise exceptions\n",
        "    x = int(input(\"Enter a number: \"))\n",
        "    result = 10 / x\n",
        "    print(\"Result:\", result)\n",
        "except ValueError:\n",
        "    # Handling ValueError\n",
        "    print(\"Invalid input. Please enter a valid number.\")\n",
        "except ZeroDivisionError:\n",
        "    # Handling ZeroDivisionError\n",
        "    print(\"Cannot divide by zero.\")\n",
        "except Exception as e:\n",
        "    # Handling other types of exceptions\n",
        "    print(\"An error occurred:\", str(e))\n"
      ],
      "metadata": {
        "colab": {
          "base_uri": "https://localhost:8080/"
        },
        "id": "Jjv-Up_KpHwE",
        "outputId": "d4b16590-4d18-4301-db23-34a003aa3602"
      },
      "execution_count": 6,
      "outputs": [
        {
          "output_type": "stream",
          "name": "stdout",
          "text": [
            "Enter a number: 1\n",
            "Result: 10.0\n"
          ]
        }
      ]
    },
    {
      "cell_type": "code",
      "source": [
        "# 7. Write the reason due to which following errors are raised:\n",
        "# a. EOFError\n",
        "# b. FloatingPointError\n",
        "# c. IndexError\n",
        "# d. MemoryError\n",
        "# e. OverflowError\n",
        "# f. TabError\n",
        "# g. ValueError"
      ],
      "metadata": {
        "id": "rNDjtGpDpHyA"
      },
      "execution_count": null,
      "outputs": []
    },
    {
      "cell_type": "code",
      "source": [
        "# a. EOFError: Raised when the program unexpectedly reaches the end of a file or input stream.\n",
        "# b. FloatingPointError: Raised when a floating-point arithmetic operation fails, such as dividing by zero or performing an invalid mathematical operation.\n",
        "# c. IndexError: Raised when trying to access an index that is out of range in a sequence, like a list or string.\n",
        "# d. MemoryError: Raised when the program runs out of available memory to allocate for new objects or data structures.\n",
        "# e. OverflowError: Raised when a calculation or operation results in a value that exceeds the maximum representable value for a numeric type.\n",
        "# f. TabError: Raised when there are inconsistencies or incorrect usage of tabs and spaces for indentation in Python code.\n",
        "# g. ValueError: Raised when a function receives an argument of the correct type but an invalid value."
      ],
      "metadata": {
        "id": "UxLYr-5MpH1i"
      },
      "execution_count": null,
      "outputs": []
    },
    {
      "cell_type": "code",
      "source": [
        "# 8. Write code for the following given scenario and add try-exception block to it.\n",
        "# a. Program to divide two numbers\n",
        "# b. Program to convert a string to an integer\n",
        "# c. Program to access an element in a list\n",
        "# d. Program to handle a specific exception\n",
        "# e. Program to handle any exception"
      ],
      "metadata": {
        "id": "S2Wz63XcsHPW"
      },
      "execution_count": null,
      "outputs": []
    },
    {
      "cell_type": "code",
      "source": [
        "# a. Program to divide two numbers:\n",
        "\n",
        "\n",
        "try:\n",
        "    numerator = float(input(\"Enter the numerator: \"))\n",
        "    denominator = float(input(\"Enter the denominator: \"))\n",
        "    result = numerator / denominator\n",
        "    print(\"Result:\", result)\n",
        "except ZeroDivisionError:\n",
        "    print(\"Error: Cannot divide by zero.\")\n"
      ],
      "metadata": {
        "colab": {
          "base_uri": "https://localhost:8080/"
        },
        "id": "lfyWhsaCsHMI",
        "outputId": "6829436a-30cf-4b80-929a-883874084448"
      },
      "execution_count": 5,
      "outputs": [
        {
          "output_type": "stream",
          "name": "stdout",
          "text": [
            "Enter the numerator: 1\n",
            "Enter the denominator: 0\n",
            "Error: Cannot divide by zero.\n"
          ]
        }
      ]
    },
    {
      "cell_type": "code",
      "source": [
        "# b. Program to convert a string to an integer\n",
        "\n",
        "try:\n",
        "    number_str = input(\"Enter a number: \")\n",
        "    number = int(number_str)\n",
        "    print(\"Number:\", number)\n",
        "except ValueError:\n",
        "    print(\"Error: Invalid input. Please enter a valid integer.\")\n"
      ],
      "metadata": {
        "colab": {
          "base_uri": "https://localhost:8080/"
        },
        "id": "6Ym_aO87sHI6",
        "outputId": "4b490adc-633e-4b73-8ccd-aa7792ce85b2"
      },
      "execution_count": 4,
      "outputs": [
        {
          "output_type": "stream",
          "name": "stdout",
          "text": [
            "Enter a number: 54\n",
            "Number: 54\n"
          ]
        }
      ]
    },
    {
      "cell_type": "code",
      "source": [
        "#  c. Program to access an element in a list\n",
        "\n",
        "\n",
        "try:\n",
        "    my_list = [1, 2, 3, 4, 5]\n",
        "    index = int(input(\"Enter the index: \"))\n",
        "    value = my_list[index]\n",
        "    print(\"Value at index\", index, \":\", value)\n",
        "except IndexError:\n",
        "    print(\"Error: Index is out of range.\")\n"
      ],
      "metadata": {
        "colab": {
          "base_uri": "https://localhost:8080/"
        },
        "id": "m0g2tVdWsHGD",
        "outputId": "3ea553df-bed5-4747-bf6b-6237a7a11abf"
      },
      "execution_count": 3,
      "outputs": [
        {
          "output_type": "stream",
          "name": "stdout",
          "text": [
            "Enter the index: 56\n",
            "Error: Index is out of range.\n"
          ]
        }
      ]
    },
    {
      "cell_type": "code",
      "source": [
        "# d. Program to handle a specific exception\n",
        "\n",
        "try:\n",
        "    x = int(input(\"Enter a number: \"))\n",
        "    y = int(input(\"Enter another number: \"))\n",
        "    result = x / y\n",
        "    print(\"Result:\", result)\n",
        "except ZeroDivisionError:\n",
        "    print(\"Error: Cannot divide by zero.\")\n",
        "except ValueError:\n",
        "    print(\"Error: Invalid input. Please enter valid numbers.\")\n"
      ],
      "metadata": {
        "colab": {
          "base_uri": "https://localhost:8080/"
        },
        "id": "Iz3dhcLDsHC_",
        "outputId": "25e0631a-9d09-45cc-d19d-5eb3777f1bc8"
      },
      "execution_count": 2,
      "outputs": [
        {
          "output_type": "stream",
          "name": "stdout",
          "text": [
            "Enter a number: 2\n",
            "Enter another number: 5\n",
            "Result: 0.4\n"
          ]
        }
      ]
    },
    {
      "cell_type": "code",
      "source": [
        "# e. Program to handle any exception\n",
        "\n",
        "try:\n",
        "    # Code that may raise an exception\n",
        "    x = int(input(\"Enter a number: \"))\n",
        "    result = 10 / x\n",
        "    print(\"Result:\", result)\n",
        "except Exception as e:\n",
        "    print(\"An error occurred:\", str(e))\n"
      ],
      "metadata": {
        "colab": {
          "base_uri": "https://localhost:8080/"
        },
        "id": "QGED_0VQsG_8",
        "outputId": "a0319523-41f8-4160-cf57-49f2629bb952"
      },
      "execution_count": 1,
      "outputs": [
        {
          "output_type": "stream",
          "name": "stdout",
          "text": [
            "Enter a number: 1\n",
            "Result: 10.0\n"
          ]
        }
      ]
    },
    {
      "cell_type": "code",
      "source": [],
      "metadata": {
        "id": "bXfQHzABsG7O"
      },
      "execution_count": null,
      "outputs": []
    },
    {
      "cell_type": "code",
      "source": [],
      "metadata": {
        "id": "qAKG_6W6sG1v"
      },
      "execution_count": null,
      "outputs": []
    },
    {
      "cell_type": "code",
      "source": [],
      "metadata": {
        "id": "EES60PGzsGyw"
      },
      "execution_count": null,
      "outputs": []
    },
    {
      "cell_type": "code",
      "source": [],
      "metadata": {
        "id": "wVqQtQsSsGv8"
      },
      "execution_count": null,
      "outputs": []
    },
    {
      "cell_type": "code",
      "source": [],
      "metadata": {
        "id": "n3yjb0etsGtT"
      },
      "execution_count": null,
      "outputs": []
    },
    {
      "cell_type": "code",
      "source": [],
      "metadata": {
        "id": "CiQ3Sp3psGp0"
      },
      "execution_count": null,
      "outputs": []
    }
  ]
}